{
 "cells": [
  {
   "cell_type": "code",
   "execution_count": 1,
   "id": "65ec6032",
   "metadata": {},
   "outputs": [],
   "source": [
    "%load_ext autoreload\n",
    "%autoreload 2\n",
    "import os\n",
    "from tqdm import tqdm\n",
    "\n",
    "from processingmm import batch_processing\n",
    "\n",
    "from penetration_depth import process_PD\n",
    "import shutil"
   ]
  },
  {
   "cell_type": "code",
   "execution_count": 2,
   "id": "4675085e",
   "metadata": {},
   "outputs": [
    {
     "name": "stdout",
     "output_type": "stream",
     "text": [
      "Currently selected mode: CX_overimposed.\n"
     ]
    }
   ],
   "source": [
    "CX_overimposed = True\n",
    "CC_overimposed = False\n",
    "legacy = False\n",
    "\n",
    "assert sum([CX_overimposed, CC_overimposed, legacy]) == 1, f\"Exactly one mode should be selected: currently {sum([CX_overimposed, CC_overimposed, legacy])} are selected.\"\n",
    "\n",
    "small_ROIs = True\n",
    "path_data = r'D:\\PD\\CC_CX_2024\\CX\\measurements'\n",
    "\n",
    "if CC_overimposed:\n",
    "    measurements_types = [[r'90_overimposition', 'WM']]\n",
    "    wavelengths = ['550nm']\n",
    "    CX_overimposed = False\n",
    "    max_number_ROIs = 15\n",
    "elif CX_overimposed:\n",
    "    measurements_types = [[r'90_overimposition', 'GM'], [r'90_overimposition', 'WM']]\n",
    "    wavelengths = ['550nm']\n",
    "    CC_overimposed = False\n",
    "    max_number_ROIs = 15\n",
    "else:\n",
    "    # measurements_types = [r'0_overimposition', r'100+x', r'45_overimposition', r'90_overimposition', r'splitted']\n",
    "    measurements_types = [r'100+x']\n",
    "    wavelengths = ['550nm', '650nm']\n",
    "    max_number_ROIs = 30\n",
    "\n",
    "metric = 'median'\n",
    "parameters = ['depolarization', 'retardance', 'azimuth_local_var', 'azimuth_iq', 'azimuth_sd']\n",
    "parameters_save = ['depolarization', 'retardance', 'azimuth_local_var']\n",
    "iq_size = 90\n",
    "\n",
    "\n",
    "text = 'CC_overimposed' if CC_overimposed else 'CX_overimposed' if CX_overimposed else 'legacy'\n",
    "print(f'Currently selected mode: {text}.')"
   ]
  },
  {
   "cell_type": "code",
   "execution_count": 3,
   "id": "2c7fc46c",
   "metadata": {},
   "outputs": [
    {
     "name": "stderr",
     "output_type": "stream",
     "text": [
      "0it [00:00, ?it/s]\n"
     ]
    },
    {
     "data": {
      "text/plain": [
       "[]"
      ]
     },
     "execution_count": 3,
     "metadata": {},
     "output_type": "execute_result"
    }
   ],
   "source": [
    "# get the folder in which the polarimetric measurements are stored\n",
    "directories = [path_data]\n",
    "calib = r'D:\\PD\\CC_legacy\\calib'\n",
    "batch_processing.batch_process(directories, calib, run_all = False)"
   ]
  },
  {
   "cell_type": "code",
   "execution_count": 5,
   "id": "582dc06d",
   "metadata": {},
   "outputs": [
    {
     "name": "stdout",
     "output_type": "stream",
     "text": [
      "\n",
      "Moving the annotations and creating the small ROIs...\n",
      "\n",
      "Moving the annotations for 2024-03-19_T_CX-over-90-20um_FX_M_1...\n",
      "Small ROIs created for 2024-03-19_T_CX-over-90-20um_FX_M_1\n",
      "\n",
      "Moving the annotations for 2024-03-19_T_CX-over-90-30um_FX_M_1...\n",
      "Small ROIs created for 2024-03-19_T_CX-over-90-30um_FX_M_1\n",
      "\n",
      "Moving the annotations for 2024-03-19_T_CX-over-90-40um_FX_M_1...\n",
      "Small ROIs created for 2024-03-19_T_CX-over-90-40um_FX_M_1\n",
      "\n",
      "Moving the annotations for 2024-03-19_T_CX-over-90-50um_FX_M_1...\n",
      "Small ROIs created for 2024-03-19_T_CX-over-90-50um_FX_M_1\n",
      "\n",
      "Moving the annotations for 2024-03-19_T_CX-over-90-60um_FX_M_2...\n",
      "Small ROIs created for 2024-03-19_T_CX-over-90-60um_FX_M_2\n",
      "\n",
      "Moving the annotations for 2024-03-19_T_CX-over-90-80um_FX_M_2...\n",
      "Small ROIs created for 2024-03-19_T_CX-over-90-80um_FX_M_2\n",
      "\n",
      "Moving the annotations for 2024-03-19_T_CX-over-90-100um_FX_M_2...\n",
      "Small ROIs created for 2024-03-19_T_CX-over-90-100um_FX_M_2\n",
      "\n",
      "Moving the annotations for 2024-03-19_T_CX-over-90-150um_FX_M_1...\n",
      "Small ROIs created for 2024-03-19_T_CX-over-90-150um_FX_M_1\n",
      "\n",
      "Moving the annotations for 2024-03-19_T_CX-over-90-200um_FX_M_1...\n",
      "Small ROIs created for 2024-03-19_T_CX-over-90-200um_FX_M_1\n",
      "\n",
      "Moving the annotations for 2024-03-19_T_CX-over-90-300um_FX_M_1...\n",
      "Small ROIs created for 2024-03-19_T_CX-over-90-300um_FX_M_1\n",
      "\n",
      "Moving the annotations for 2024-03-19_T_CX-over-90-400um_FX_M_1...\n",
      "Small ROIs created for 2024-03-19_T_CX-over-90-400um_FX_M_1\n",
      "\n",
      "Small ROIs processed...\n",
      "\n",
      "\n",
      "Processing: 550nm...\n",
      "\n",
      "Loading data for ['90_overimposition', 'GM']...\n",
      "\n",
      "Checking the annotations for ['90_overimposition', 'GM']...\n",
      "Data checked for ['90_overimposition', 'GM']...\n",
      "\n",
      "Loading the data for ['90_overimposition', 'GM']...\n"
     ]
    },
    {
     "name": "stderr",
     "output_type": "stream",
     "text": [
      "100%|██████████████████████████████████████████████████████████████████████████████████| 11/11 [02:28<00:00, 13.49s/it]\n"
     ]
    },
    {
     "name": "stdout",
     "output_type": "stream",
     "text": [
      "Data loaded for ['90_overimposition', 'GM']...\n",
      "\n",
      "Saving the raw data for ['90_overimposition', 'GM']...\n",
      "Raw data saved for ['90_overimposition', 'GM']...\n",
      "\n",
      "Data loaded for ['90_overimposition', 'GM']...\n",
      "\n",
      "\n",
      "Loading data for ['90_overimposition', 'WM']...\n",
      "\n",
      "Checking the annotations for ['90_overimposition', 'WM']...\n",
      "Data checked for ['90_overimposition', 'WM']...\n",
      "\n",
      "Loading the data for ['90_overimposition', 'WM']...\n"
     ]
    },
    {
     "name": "stderr",
     "output_type": "stream",
     "text": [
      "100%|██████████████████████████████████████████████████████████████████████████████████| 11/11 [01:16<00:00,  6.98s/it]\n"
     ]
    },
    {
     "name": "stdout",
     "output_type": "stream",
     "text": [
      "Data loaded for ['90_overimposition', 'WM']...\n",
      "\n",
      "Saving the raw data for ['90_overimposition', 'WM']...\n",
      "Raw data saved for ['90_overimposition', 'WM']...\n",
      "\n",
      "Data loaded for ['90_overimposition', 'WM']...\n",
      "\n",
      "\n",
      "Generating the plots for ['90_overimposition', 'GM']...\n"
     ]
    },
    {
     "name": "stderr",
     "output_type": "stream",
     "text": [
      "100%|██████████████████████████████████████████████████████████████████████████████████| 11/11 [00:24<00:00,  2.25s/it]\n"
     ]
    },
    {
     "name": "stdout",
     "output_type": "stream",
     "text": [
      "Plots generated for ['90_overimposition', 'GM']...\n",
      "\n",
      "\n",
      "Generating the plots for ['90_overimposition', 'WM']...\n"
     ]
    },
    {
     "name": "stderr",
     "output_type": "stream",
     "text": [
      "100%|██████████████████████████████████████████████████████████████████████████████████| 11/11 [00:22<00:00,  2.06s/it]\n"
     ]
    },
    {
     "name": "stdout",
     "output_type": "stream",
     "text": [
      "Plots generated for ['90_overimposition', 'WM']...\n",
      "\n",
      "\n",
      "Creating the output pickle file for ['90_overimposition', 'GM']...\n",
      "Output pickle file created for ['90_overimposition', 'GM']...\n",
      "\n",
      "\n",
      "Creating the output pickle file for ['90_overimposition', 'WM']...\n",
      "Output pickle file created for ['90_overimposition', 'WM']...\n",
      "\n",
      "\n",
      "Creating the output file to plug in prism for 550nm...\n",
      "Output file created for 550nm...\n",
      "\n",
      "Processed: 550nm\n",
      "\n",
      "\n"
     ]
    }
   ],
   "source": [
    "params = process_PD.process_PD(path_data,measurements_types, wavelengths, parameters, iq_size = iq_size, \n",
    "                metric = metric, CX_overimposed = CX_overimposed, CC_overimposed = CC_overimposed, \n",
    "                small_ROIs = small_ROIs, max_number_ROIs = max_number_ROIs, Flag = True)"
   ]
  },
  {
   "cell_type": "code",
   "execution_count": null,
   "id": "4999d6d4",
   "metadata": {},
   "outputs": [],
   "source": []
  },
  {
   "cell_type": "code",
   "execution_count": null,
   "id": "0aaf467d",
   "metadata": {},
   "outputs": [],
   "source": []
  },
  {
   "cell_type": "code",
   "execution_count": null,
   "id": "2a6d2a30",
   "metadata": {},
   "outputs": [],
   "source": []
  },
  {
   "cell_type": "code",
   "execution_count": null,
   "id": "4fc18fd5",
   "metadata": {},
   "outputs": [],
   "source": []
  },
  {
   "cell_type": "code",
   "execution_count": null,
   "id": "5fd9f55e",
   "metadata": {},
   "outputs": [],
   "source": [
    "### Debuging"
   ]
  },
  {
   "cell_type": "code",
   "execution_count": 5,
   "id": "86c8b9ef",
   "metadata": {},
   "outputs": [],
   "source": [
    "path_data, measurements_types, wavelength, parameters_save, Flag, iq_size, CX_overimposed, CC_overimposed, small_ROIs = data_measurement"
   ]
  },
  {
   "cell_type": "code",
   "execution_count": 6,
   "id": "b4ed46ed",
   "metadata": {},
   "outputs": [
    {
     "name": "stdout",
     "output_type": "stream",
     "text": [
      "\n",
      "Loading data for 100+x...\n",
      "\n",
      "Checking the annotations for 100+x...\n",
      "Data checked for 100+x...\n",
      "\n",
      "Loading the data for 100+x...\n"
     ]
    },
    {
     "name": "stderr",
     "output_type": "stream",
     "text": [
      "100%|████████████████████████████████████████████████████████████████████████████████████| 3/3 [00:25<00:00,  8.46s/it]\n"
     ]
    },
    {
     "name": "stdout",
     "output_type": "stream",
     "text": [
      "Data loaded for 100+x...\n",
      "\n",
      "Saving the raw data for 100+x...\n",
      "Raw data saved for 100+x...\n",
      "\n",
      "Data loaded for 100+x...\n",
      "\n"
     ]
    }
   ],
   "source": [
    "from penetration_depth.mask_analysis import load_data\n",
    "data_measurement = load_data(path_data, measurements_types, wavelength, parameters_save, Flag = Flag, \n",
    "                                     iq_size = iq_size, CX_overimposed = CX_overimposed, CC_overimposed = CC_overimposed,\n",
    "                                     small_ROIs = small_ROIs)"
   ]
  },
  {
   "cell_type": "code",
   "execution_count": 7,
   "id": "8efc778e",
   "metadata": {},
   "outputs": [
    {
     "name": "stdout",
     "output_type": "stream",
     "text": [
      "\n",
      "Generating the plots for 100+x...\n"
     ]
    },
    {
     "name": "stderr",
     "output_type": "stream",
     "text": [
      "100%|████████████████████████████████████████████████████████████████████████████████████| 3/3 [00:05<00:00,  1.77s/it]"
     ]
    },
    {
     "name": "stdout",
     "output_type": "stream",
     "text": [
      "Plots generated for 100+x...\n",
      "\n"
     ]
    },
    {
     "name": "stderr",
     "output_type": "stream",
     "text": [
      "\n"
     ]
    }
   ],
   "source": [
    "from penetration_depth.create_plots import generate_plots\n",
    "_ = generate_plots(path_data, data_measurement, measurements_types, wavelength, metric = metric,\n",
    "                                            Flag = Flag, CX_overimposed = CX_overimposed, CC_overimposed = CC_overimposed,\n",
    "                                            small_ROIs = small_ROIs)"
   ]
  },
  {
   "cell_type": "code",
   "execution_count": 9,
   "id": "26c27342",
   "metadata": {},
   "outputs": [
    {
     "name": "stdout",
     "output_type": "stream",
     "text": [
      "\n",
      "Creating the output pickle file for 100+x...\n",
      "Output pickle file created for 100+x...\n",
      "\n"
     ]
    }
   ],
   "source": [
    "from penetration_depth.create_output import create_output_pickle_master\n",
    "# create and save the pickle files\n",
    "_ = create_output_pickle_master(data_measurement, measurements_types, parameters, \n",
    "                                        path_data, wavelength, Flag = Flag, CX_overimposed = CX_overimposed, CC_overimposed = CC_overimposed)"
   ]
  },
  {
   "cell_type": "code",
   "execution_count": 30,
   "id": "42eac99c",
   "metadata": {},
   "outputs": [
    {
     "name": "stdout",
     "output_type": "stream",
     "text": [
      "\n",
      "Creating the output file to plug in prism for 550nm...\n",
      "Output file created for 550nm...\n"
     ]
    }
   ],
   "source": [
    "from penetration_depth.save_data_prism import save_data_prism\n",
    "save_data_prism(measurements_types, path_data, wavelength, parameters, max_number_ROIs, [ROIs_GM, ROIs_WM],\n",
    "                        CX_overimposed = CX_overimposed, CC_overimposed = CC_overimposed, small_ROIs = small_ROIs)"
   ]
  },
  {
   "cell_type": "code",
   "execution_count": 25,
   "id": "3eaa46e4",
   "metadata": {},
   "outputs": [
    {
     "data": {
      "text/plain": [
       "({'100+xGM': 0}, {'100+xWM': 1})"
      ]
     },
     "execution_count": 25,
     "metadata": {},
     "output_type": "execute_result"
    }
   ],
   "source": [
    "ROIs_GM, ROIs_WM"
   ]
  },
  {
   "cell_type": "code",
   "execution_count": 21,
   "id": "30827f10",
   "metadata": {},
   "outputs": [
    {
     "data": {
      "text/plain": [
       "30"
      ]
     },
     "execution_count": 21,
     "metadata": {},
     "output_type": "execute_result"
    }
   ],
   "source": [
    "max_number_ROIs"
   ]
  },
  {
   "cell_type": "code",
   "execution_count": null,
   "id": "08f529fd",
   "metadata": {},
   "outputs": [],
   "source": []
  }
 ],
 "metadata": {
  "kernelspec": {
   "display_name": "Python 3 (ipykernel)",
   "language": "python",
   "name": "python3"
  },
  "language_info": {
   "codemirror_mode": {
    "name": "ipython",
    "version": 3
   },
   "file_extension": ".py",
   "mimetype": "text/x-python",
   "name": "python",
   "nbconvert_exporter": "python",
   "pygments_lexer": "ipython3",
   "version": "3.9.16"
  }
 },
 "nbformat": 4,
 "nbformat_minor": 5
}
