{
 "cells": [
  {
   "cell_type": "code",
   "execution_count": 50,
   "id": "65ec6032",
   "metadata": {},
   "outputs": [
    {
     "name": "stdout",
     "output_type": "stream",
     "text": [
      "The autoreload extension is already loaded. To reload it, use:\n",
      "  %reload_ext autoreload\n"
     ]
    }
   ],
   "source": [
    "%load_ext autoreload\n",
    "%autoreload 2\n",
    "import os\n",
    "from tqdm import tqdm\n",
    "\n",
    "from processingmm import batch_processing\n",
    "\n",
    "import sys\n",
    "sys.path.append('C:\\\\Users\\\\romai\\\\Documents\\\\penetration_depth\\\\src')\n",
    "\n",
    "from penetration_depth.process_PD import process_PD\n",
    "import shutil"
   ]
  },
  {
   "cell_type": "code",
   "execution_count": 51,
   "id": "4675085e",
   "metadata": {},
   "outputs": [],
   "source": [
    "CX_overimposed = True\n",
    "path_data = r'D:\\PD2024\\measurements'\n",
    "\n",
    "if CX_overimposed:\n",
    "    measurements_types = [[r'90_overimposition', 'GM'], [r'90_overimposition', 'WM']]\n",
    "    wavelengths = ['550nm']\n",
    "else:\n",
    "    measurements_types = [r'0_overimposition', r'100+x', r'45_overimposition', r'90_overimposition', r'splitted']\n",
    "    wavelengths = ['550nm', '650nm']\n",
    "metric = 'median'\n",
    "parameters = ['depolarization', 'retardance', 'azimuth_local_var', 'azimuth_pr', 'azimuth_iq', 'azimuth_sd']\n",
    "parameters_save = ['depolarization', 'retardance', 'azimuth']\n",
    "iq_size = 90"
   ]
  },
  {
   "cell_type": "code",
   "execution_count": 52,
   "id": "2c7fc46c",
   "metadata": {},
   "outputs": [
    {
     "name": "stderr",
     "output_type": "stream",
     "text": [
      "100%|███████████████████████████████████████████████████████████████████████████████████| 1/1 [03:04<00:00, 184.40s/it]\n"
     ]
    },
    {
     "data": {
      "text/plain": [
       "['D:\\\\PD2024\\\\measurements\\\\90_overimposition\\\\2024-03-19_T_CX-over-90-50um_FX_M_1',\n",
       " 'D:\\\\PD2024\\\\measurements\\\\90_overimposition\\\\2024-03-19_T_CX-over-90-20um_FX_M_1']"
      ]
     },
     "execution_count": 52,
     "metadata": {},
     "output_type": "execute_result"
    }
   ],
   "source": [
    "# get the folder in which the polarimetric measurements are stored\n",
    "directories = [path_data]\n",
    "calib = r'D:\\calib'\n",
    "batch_processing.batch_process(directories, calib, run_all = True)"
   ]
  },
  {
   "cell_type": "code",
   "execution_count": 53,
   "id": "582dc06d",
   "metadata": {},
   "outputs": [
    {
     "name": "stdout",
     "output_type": "stream",
     "text": [
      "Processing: 550nm...\n",
      "Processing ['90_overimposition', 'GM']...\n"
     ]
    },
    {
     "name": "stderr",
     "output_type": "stream",
     "text": [
      "C:\\Users\\romai\\Documents\\penetration_depth\\src\\penetration_depth\\mask_analysis.py:240: UserWarning: The number of ROIs is not correct for the folder D:\\PD2024\\measurements\\90_overimposition\\2024-03-19_T_CX-over-90-50um_FX_M_1\n",
      "  warnings.warn('The number of ROIs is not correct for the folder {}'.format(folder))\n",
      "C:\\Users\\romai\\Documents\\penetration_depth\\src\\penetration_depth\\mask_analysis.py:240: UserWarning: The number of ROIs is not correct for the folder D:\\PD2024\\measurements\\90_overimposition\\2024-03-19_T_CX-over-90-20um_FX_M_1\n",
      "  warnings.warn('The number of ROIs is not correct for the folder {}'.format(folder))\n"
     ]
    },
    {
     "name": "stdout",
     "output_type": "stream",
     "text": [
      "Processing ['90_overimposition', 'WM']...\n",
      "dict_keys(['depolarization', 'retardance', 'azimuth_local_var', 'azimuth_pr', 'azimuth_iq', 'azimuth_sd'])\n",
      "dict_keys(['depolarization', 'retardance', 'azimuth_local_var', 'azimuth_pr', 'azimuth_iq', 'azimuth_sd'])\n",
      "Processed: 550nm\n",
      "\n"
     ]
    }
   ],
   "source": [
    "data_measurement = process_PD(path_data,measurements_types, wavelengths, parameters, iq_size = iq_size, \n",
    "                         metric = metric, Flag = False, CX_overimposed = CX_overimposed)"
   ]
  },
  {
   "cell_type": "code",
   "execution_count": null,
   "id": "a1e52ce2",
   "metadata": {},
   "outputs": [],
   "source": []
  }
 ],
 "metadata": {
  "kernelspec": {
   "display_name": "Python 3 (ipykernel)",
   "language": "python",
   "name": "python3"
  },
  "language_info": {
   "codemirror_mode": {
    "name": "ipython",
    "version": 3
   },
   "file_extension": ".py",
   "mimetype": "text/x-python",
   "name": "python",
   "nbconvert_exporter": "python",
   "pygments_lexer": "ipython3",
   "version": "3.9.16"
  }
 },
 "nbformat": 4,
 "nbformat_minor": 5
}
