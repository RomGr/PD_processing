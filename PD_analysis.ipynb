{
 "cells": [
  {
   "cell_type": "code",
   "execution_count": 1,
   "id": "65ec6032",
   "metadata": {},
   "outputs": [],
   "source": [
    "%load_ext autoreload\n",
    "%autoreload 2\n",
    "import os\n",
    "from tqdm import tqdm\n",
    "from penetration_depth import mask_analysis, overimposed_img, prepare_data_prism\n",
    "from penetration_depth.helpers import load_plot_parameters\n",
    "# import matplotlib\n",
    "# matplotlib.use('Agg')"
   ]
  },
  {
   "cell_type": "code",
   "execution_count": 14,
   "id": "c5d0f4b0",
   "metadata": {},
   "outputs": [],
   "source": [
    "path_data = r'F:\\PD_test'\n",
    "# measurements_types = [r'0_overimposition', r'100+x', r'45_overimposition', r'90_overimposition', r'splitted']\n",
    "measurements_types = [r'0_overimposition']\n",
    "wavelength = '600nm'\n",
    "metric = 'mean'\n",
    "parameters = ['depolarization', 'retardance', 'azimuth_iv', 'azimuth_sd']\n",
    "parameters_save = ['depolarization', 'retardance', 'azimuth']"
   ]
  },
  {
   "cell_type": "code",
   "execution_count": 18,
   "id": "a7bc5183",
   "metadata": {},
   "outputs": [
    {
     "name": "stderr",
     "output_type": "stream",
     "text": [
      "100%|████████████████████████████████████████████████████████████████████████████████████| 1/1 [00:01<00:00,  1.92s/it]\n"
     ]
    }
   ],
   "source": [
    "data_measurement, data_to_clean = mask_analysis.load_data(path_data, measurements_types, wavelength, parameters_save)"
   ]
  },
  {
   "cell_type": "code",
   "execution_count": 23,
   "id": "84c969db",
   "metadata": {},
   "outputs": [
    {
     "name": "stderr",
     "output_type": "stream",
     "text": [
      "100%|████████████████████████████████████████████████████████████████████████████████████| 1/1 [00:11<00:00, 11.60s/it]\n"
     ]
    }
   ],
   "source": [
    "for measurements_type in tqdm(measurements_types):\n",
    "    mask_analysis.generate_plots(path_data, data_measurement[measurements_type], measurements_type, wavelength, Flag = False)"
   ]
  },
  {
   "cell_type": "code",
   "execution_count": 24,
   "id": "723b099c",
   "metadata": {},
   "outputs": [
    {
     "name": "stderr",
     "output_type": "stream",
     "text": [
      "100%|████████████████████████████████████████████████████████████████████████████████████| 1/1 [00:00<00:00,  6.12it/s]\n"
     ]
    }
   ],
   "source": [
    "for measurements_type in tqdm(measurements_types):\n",
    "    combined_data_per_thickness = mask_analysis.create_output_pickle(data_measurement[measurements_type], parameters, \n",
    "                                                                     path_data, measurements_type, wavelength)"
   ]
  },
  {
   "cell_type": "code",
   "execution_count": 26,
   "id": "93e1150a",
   "metadata": {},
   "outputs": [],
   "source": [
    "mask_analysis.save_data_prism(measurements_types, path_data, wavelength, parameters)"
   ]
  },
  {
   "cell_type": "code",
   "execution_count": null,
   "id": "34df0c87",
   "metadata": {},
   "outputs": [],
   "source": []
  },
  {
   "cell_type": "code",
   "execution_count": 21,
   "id": "4305f5ff",
   "metadata": {},
   "outputs": [],
   "source": []
  },
  {
   "cell_type": "code",
   "execution_count": 22,
   "id": "0790d05e",
   "metadata": {},
   "outputs": [],
   "source": []
  },
  {
   "cell_type": "code",
   "execution_count": 23,
   "id": "31be8078",
   "metadata": {},
   "outputs": [
    {
     "data": {
      "text/plain": [
       "<matplotlib.image.AxesImage at 0x1ae805463d0>"
      ]
     },
     "execution_count": 23,
     "metadata": {},
     "output_type": "execute_result"
    },
    {
     "data": {
      "image/png": "[encoded data removed]",
      "text/plain": [
       "<Figure size 640x480 with 1 Axes>"
      ]
     },
     "metadata": {},
     "output_type": "display_data"
    }
   ],
   "source": []
  },
  {
   "cell_type": "code",
   "execution_count": null,
   "id": "3578f13b",
   "metadata": {},
   "outputs": [],
   "source": []
  }
 ],
 "metadata": {
  "kernelspec": {
   "display_name": "Python 3 (ipykernel)",
   "language": "python",
   "name": "python3"
  },
  "language_info": {
   "codemirror_mode": {
    "name": "ipython",
    "version": 3
   },
   "file_extension": ".py",
   "mimetype": "text/x-python",
   "name": "python",
   "nbconvert_exporter": "python",
   "pygments_lexer": "ipython3",
   "version": "3.9.16"
  }
 },
 "nbformat": 4,
 "nbformat_minor": 5
}
