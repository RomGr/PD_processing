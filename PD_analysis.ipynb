{
 "cells": [
  {
   "cell_type": "code",
   "execution_count": 34,
   "id": "65ec6032",
   "metadata": {},
   "outputs": [
    {
     "name": "stdout",
     "output_type": "stream",
     "text": [
      "The autoreload extension is already loaded. To reload it, use:\n",
      "  %reload_ext autoreload\n"
     ]
    }
   ],
   "source": [
    "%load_ext autoreload\n",
    "%autoreload 2\n",
    "import os\n",
    "from tqdm import tqdm\n",
    "\n",
    "from processingmm import batch_processing\n",
    "\n",
    "import sys\n",
    "sys.path.append('C:\\\\Users\\\\romai\\\\Documents\\\\penetration_depth\\\\src')\n",
    "\n",
    "from penetration_depth import process_PD\n",
    "import shutil"
   ]
  },
  {
   "cell_type": "code",
   "execution_count": 42,
   "id": "4675085e",
   "metadata": {},
   "outputs": [],
   "source": [
    "CX_overimposed = True\n",
    "CC_overimposed = None\n",
    "path_data = r'D:\\PD2024\\CX\\measurements'\n",
    "\n",
    "if CC_overimposed:\n",
    "    measurements_types = [[r'90_overimposition', 'WM']]\n",
    "    wavelengths = ['550nm']\n",
    "    CX_overimposed = False\n",
    "    small_ROIs = True\n",
    "elif CX_overimposed:\n",
    "    measurements_types = [[r'90_overimposition', 'GM'], [r'90_overimposition', 'WM']]\n",
    "    wavelengths = ['550nm']\n",
    "    CC_overimposed = False\n",
    "    small_ROIs = True\n",
    "else:\n",
    "    measurements_types = [r'0_overimposition', r'100+x', r'45_overimposition', r'90_overimposition', r'splitted']\n",
    "    wavelengths = ['550nm', '650nm']\n",
    "    small_ROIs = False\n",
    "metric = 'median'\n",
    "parameters = ['depolarization', 'retardance', 'azimuth_local_var', 'azimuth_pr', 'azimuth_iq', 'azimuth_sd']\n",
    "parameters_save = ['depolarization', 'retardance', 'azimuth']\n",
    "iq_size = 90\n",
    "max_number_ROIs = 15"
   ]
  },
  {
   "cell_type": "code",
   "execution_count": 43,
   "id": "2c7fc46c",
   "metadata": {},
   "outputs": [
    {
     "name": "stderr",
     "output_type": "stream",
     "text": [
      "0it [00:00, ?it/s]\n"
     ]
    },
    {
     "data": {
      "text/plain": [
       "[]"
      ]
     },
     "execution_count": 43,
     "metadata": {},
     "output_type": "execute_result"
    }
   ],
   "source": [
    "# get the folder in which the polarimetric measurements are stored\n",
    "directories = [path_data]\n",
    "calib = r'D:\\calib'\n",
    "batch_processing.batch_process(directories, calib, run_all = False)"
   ]
  },
  {
   "cell_type": "code",
   "execution_count": 57,
   "id": "582dc06d",
   "metadata": {},
   "outputs": [
    {
     "name": "stdout",
     "output_type": "stream",
     "text": [
      "60\n",
      "60\n",
      "60\n",
      "60\n",
      "60\n",
      "60\n",
      "60\n",
      "60\n",
      "60\n",
      "60\n",
      "60\n",
      "60\n",
      "24\n",
      "30\n",
      "24\n",
      "30\n",
      "24\n",
      "30\n",
      "24\n",
      "30\n",
      "24\n",
      "30\n",
      "24\n",
      "30\n",
      "\n",
      "Creating the output file to plug in prism for 550nm...\n",
      "Output file created for 550nm...\n",
      "\n",
      "Processed: 550nm\n",
      "\n",
      "\n"
     ]
    },
    {
     "ename": "NameError",
     "evalue": "name 'data_measurement' is not defined",
     "output_type": "error",
     "traceback": [
      "\u001b[1;31m---------------------------------------------------------------------------\u001b[0m",
      "\u001b[1;31mNameError\u001b[0m                                 Traceback (most recent call last)",
      "\u001b[1;32m~\\AppData\\Local\\Temp\\ipykernel_14024\\3314541428.py\u001b[0m in \u001b[0;36m<module>\u001b[1;34m\u001b[0m\n\u001b[1;32m----> 1\u001b[1;33m data_measurement = process_PD.process_PD(path_data,measurements_types, wavelengths, parameters, iq_size = iq_size, \n\u001b[0m\u001b[0;32m      2\u001b[0m             \u001b[0mmetric\u001b[0m \u001b[1;33m=\u001b[0m \u001b[0mmetric\u001b[0m\u001b[1;33m,\u001b[0m \u001b[0mFlag\u001b[0m \u001b[1;33m=\u001b[0m \u001b[1;32mFalse\u001b[0m\u001b[1;33m,\u001b[0m \u001b[0mCX_overimposed\u001b[0m \u001b[1;33m=\u001b[0m \u001b[0mCX_overimposed\u001b[0m\u001b[1;33m,\u001b[0m \u001b[0mCC_overimposed\u001b[0m \u001b[1;33m=\u001b[0m \u001b[0mCC_overimposed\u001b[0m\u001b[1;33m,\u001b[0m\u001b[1;33m\u001b[0m\u001b[1;33m\u001b[0m\u001b[0m\n\u001b[0;32m      3\u001b[0m                                          small_ROIs = small_ROIs, max_number_ROIs = max_number_ROIs)\n",
      "\u001b[1;32m~\\Documents\\penetration_depth\\src\\penetration_depth\\process_PD.py\u001b[0m in \u001b[0;36mprocess_PD\u001b[1;34m(path_data, measurements_types, wavelengths, parameters, iq_size, metric, Flag, CX_overimposed, CC_overimposed, small_ROIs, max_number_ROIs)\u001b[0m\n\u001b[0;32m     63\u001b[0m         \u001b[0mprint\u001b[0m\u001b[1;33m(\u001b[0m\u001b[1;33m)\u001b[0m\u001b[1;33m\u001b[0m\u001b[1;33m\u001b[0m\u001b[0m\n\u001b[0;32m     64\u001b[0m \u001b[1;33m\u001b[0m\u001b[0m\n\u001b[1;32m---> 65\u001b[1;33m     \u001b[1;32mreturn\u001b[0m \u001b[0mdata_measurement\u001b[0m\u001b[1;33m\u001b[0m\u001b[1;33m\u001b[0m\u001b[0m\n\u001b[0m\u001b[0;32m     66\u001b[0m \u001b[1;33m\u001b[0m\u001b[0m\n\u001b[0;32m     67\u001b[0m \u001b[1;33m\u001b[0m\u001b[0m\n",
      "\u001b[1;31mNameError\u001b[0m: name 'data_measurement' is not defined"
     ]
    }
   ],
   "source": [
    "data_measurement = process_PD.process_PD(path_data,measurements_types, wavelengths, parameters, iq_size = iq_size, \n",
    "            metric = metric, Flag = False, CX_overimposed = CX_overimposed, CC_overimposed = CC_overimposed, \n",
    "                                         small_ROIs = small_ROIs, max_number_ROIs = max_number_ROIs)"
   ]
  },
  {
   "cell_type": "code",
   "execution_count": null,
   "id": "4da7129c",
   "metadata": {},
   "outputs": [],
   "source": []
  }
 ],
 "metadata": {
  "kernelspec": {
   "display_name": "Python 3 (ipykernel)",
   "language": "python",
   "name": "python3"
  },
  "language_info": {
   "codemirror_mode": {
    "name": "ipython",
    "version": 3
   },
   "file_extension": ".py",
   "mimetype": "text/x-python",
   "name": "python",
   "nbconvert_exporter": "python",
   "pygments_lexer": "ipython3",
   "version": "3.9.16"
  }
 },
 "nbformat": 4,
 "nbformat_minor": 5
}
