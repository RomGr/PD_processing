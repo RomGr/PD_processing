{
 "cells": [
  {
   "cell_type": "code",
   "execution_count": 1,
   "id": "65ec6032",
   "metadata": {},
   "outputs": [],
   "source": [
    "%load_ext autoreload\n",
    "%autoreload 2\n",
    "import os\n",
    "from tqdm import tqdm\n",
    "from penetration_depth import mask_analysis, overimposed_img, prepare_data_prism\n",
    "from penetration_depth.helpers import load_plot_parameters\n",
    "# import matplotlib\n",
    "# matplotlib.use('Agg')"
   ]
  },
  {
   "cell_type": "code",
   "execution_count": 2,
   "id": "c5d0f4b0",
   "metadata": {},
   "outputs": [],
   "source": [
    "path_data = r'F:\\PD_test'\n",
    "measurements_types = [r'0_overimposition', r'100+x', r'45_overimposition', r'90_overimposition', r'splitted']\n",
    "wavelengths = ['550nm', '650nm']\n",
    "metric = 'median'\n",
    "parameters = ['depolarization', 'retardance', 'azimuth_pr', 'azimuth_iq', 'azimuth_sd']\n",
    "parameters_save = ['depolarization', 'retardance', 'azimuth']\n",
    "iq_size = 90\n",
    "proportion_azimuth_values = 1 - ((100 - iq_size) * 2)/100\n",
    "assert proportion_azimuth_values > 0"
   ]
  },
  {
   "cell_type": "code",
   "execution_count": null,
   "id": "a7bc5183",
   "metadata": {},
   "outputs": [
    {
     "name": "stderr",
     "output_type": "stream",
     "text": [
      "\r",
      "  0%|                                                                                            | 0/5 [00:00<?, ?it/s]"
     ]
    },
    {
     "name": "stdout",
     "output_type": "stream",
     "text": [
      "('F:\\\\PD_test\\\\0_overimposition\\\\2022-08-17_T_CC-over2-0-40um_FX_M_1', 'overimposed', '550nm')\n",
      "Number of expected blobs: 4, Number of blobs: 7\n",
      "Press enter to re-process...\n",
      "('F:\\\\PD_test\\\\0_overimposition\\\\2022-08-17_T_CC-over2-0-40um_FX_M_1', 'overimposed', '550nm')\n",
      "Number of expected blobs: 4, Number of blobs: 7\n",
      "Press enter to re-process...\n",
      "('F:\\\\PD_test\\\\0_overimposition\\\\2022-08-17_T_CC-over2-0-40um_FX_M_1', 'overimposed', '550nm')\n",
      "Number of expected blobs: 4, Number of blobs: 4\n"
     ]
    },
    {
     "name": "stderr",
     "output_type": "stream",
     "text": [
      " 40%|█████████████████████████████████▌                                                  | 2/5 [03:56<04:55, 98.40s/it]"
     ]
    },
    {
     "name": "stdout",
     "output_type": "stream",
     "text": [
      "('F:\\\\PD_test\\\\45_overimposition\\\\2022-08-16_T_CC-over2-45-45um_FX_M_1', 'overimposed', '550nm')\n",
      "Number of expected blobs: 4, Number of blobs: 5\n",
      "Press enter to re-process...\n",
      "('F:\\\\PD_test\\\\45_overimposition\\\\2022-08-16_T_CC-over2-45-45um_FX_M_1', 'overimposed', '550nm')\n",
      "Number of expected blobs: 4, Number of blobs: 4\n",
      "('F:\\\\PD_test\\\\45_overimposition\\\\2022-08-16_T_CC-over2-45-50um_FX_M_1', 'overimposed', '550nm')\n",
      "Number of expected blobs: 4, Number of blobs: 6\n",
      "Press enter to re-process...\n",
      "('F:\\\\PD_test\\\\45_overimposition\\\\2022-08-16_T_CC-over2-45-50um_FX_M_1', 'overimposed', '550nm')\n",
      "Number of expected blobs: 4, Number of blobs: 4\n",
      "('F:\\\\PD_test\\\\45_overimposition\\\\2022-08-16_T_CC-over2-45-60um_FX_M_1', 'overimposed', '550nm')\n",
      "Number of expected blobs: 4, Number of blobs: 5\n",
      "Press enter to re-process...\n",
      "('F:\\\\PD_test\\\\45_overimposition\\\\2022-08-16_T_CC-over2-45-60um_FX_M_1', 'overimposed', '550nm')\n",
      "Number of expected blobs: 4, Number of blobs: 4\n",
      "('F:\\\\PD_test\\\\45_overimposition\\\\2022-08-16_T_CC-over2-45-70um_FX_M_1', 'overimposed', '550nm')\n",
      "Number of expected blobs: 4, Number of blobs: 6\n",
      "Press enter to re-process...\n",
      "('F:\\\\PD_test\\\\45_overimposition\\\\2022-08-16_T_CC-over2-45-70um_FX_M_1', 'overimposed', '550nm')\n",
      "Number of expected blobs: 4, Number of blobs: 6\n",
      "Press enter to re-process...\n",
      "('F:\\\\PD_test\\\\45_overimposition\\\\2022-08-16_T_CC-over2-45-70um_FX_M_1', 'overimposed', '550nm')\n",
      "Number of expected blobs: 4, Number of blobs: 5\n",
      "Press enter to re-process...\n",
      "('F:\\\\PD_test\\\\45_overimposition\\\\2022-08-16_T_CC-over2-45-70um_FX_M_1', 'overimposed', '550nm')\n",
      "Number of expected blobs: 4, Number of blobs: 5\n",
      "Press enter to re-process...\n",
      "('F:\\\\PD_test\\\\45_overimposition\\\\2022-08-16_T_CC-over2-45-70um_FX_M_1', 'overimposed', '550nm')\n",
      "Number of expected blobs: 4, Number of blobs: 4\n"
     ]
    },
    {
     "name": "stderr",
     "output_type": "stream",
     "text": [
      "\r",
      " 60%|█████████████████████████████████████████████████▊                                 | 3/5 [13:43<10:42, 321.45s/it]"
     ]
    },
    {
     "name": "stdout",
     "output_type": "stream",
     "text": [
      "('F:\\\\PD_test\\\\90_overimposition\\\\2022-08-17_T_CC-over2-90-30um_FX_M_1', 'overimposed', '550nm')\n",
      "Number of expected blobs: 4, Number of blobs: 5\n",
      "Press enter to re-process...\n",
      "('F:\\\\PD_test\\\\90_overimposition\\\\2022-08-17_T_CC-over2-90-30um_FX_M_1', 'overimposed', '550nm')\n",
      "Number of expected blobs: 4, Number of blobs: 4\n",
      "('F:\\\\PD_test\\\\90_overimposition\\\\2022-08-17_T_CC-over2-90-35um_FX_M_1', 'overimposed', '550nm')\n",
      "Number of expected blobs: 4, Number of blobs: 5\n",
      "Press enter to re-process...\n",
      "('F:\\\\PD_test\\\\90_overimposition\\\\2022-08-17_T_CC-over2-90-35um_FX_M_1', 'overimposed', '550nm')\n",
      "Number of expected blobs: 4, Number of blobs: 4\n"
     ]
    },
    {
     "name": "stderr",
     "output_type": "stream",
     "text": [
      "100%|███████████████████████████████████████████████████████████████████████████████████| 5/5 [16:22<00:00, 196.44s/it]\n",
      "  0%|                                                                                            | 0/5 [00:00<?, ?it/s]"
     ]
    }
   ],
   "source": [
    "for wavelength in wavelengths:\n",
    "    data_measurement, data_to_clean = mask_analysis.load_data(path_data, measurements_types, wavelength, parameters_save,\n",
    "                                                         iq_size = iq_size)\n",
    "    results_path = mask_analysis.generate_plots(path_data, data_measurement, measurements_types, wavelength, metric = metric,\n",
    "                                                Flag = False)\n",
    "    combined_data_per_thickness = mask_analysis.create_output_pickle_master(data_measurement, measurements_types, parameters, \n",
    "                                            path_data, wavelength, proportion_azimuth_values = proportion_azimuth_values)\n",
    "    mask_analysis.save_data_prism(measurements_types, path_data, wavelength, parameters)"
   ]
  },
  {
   "cell_type": "code",
   "execution_count": null,
   "id": "2930be60",
   "metadata": {},
   "outputs": [],
   "source": []
  }
 ],
 "metadata": {
  "kernelspec": {
   "display_name": "Python 3 (ipykernel)",
   "language": "python",
   "name": "python3"
  },
  "language_info": {
   "codemirror_mode": {
    "name": "ipython",
    "version": 3
   },
   "file_extension": ".py",
   "mimetype": "text/x-python",
   "name": "python",
   "nbconvert_exporter": "python",
   "pygments_lexer": "ipython3",
   "version": "3.9.16"
  }
 },
 "nbformat": 4,
 "nbformat_minor": 5
}
