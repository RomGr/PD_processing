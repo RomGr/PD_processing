{
 "cells": [
  {
   "cell_type": "code",
   "execution_count": 1,
   "id": "65ec6032",
   "metadata": {},
   "outputs": [],
   "source": [
    "%load_ext autoreload\n",
    "%autoreload 2\n",
    "import os\n",
    "from tqdm import tqdm\n",
    "from penetration_depth import mask_analysis, overimposed_img, prepare_data_prism\n",
    "from penetration_depth.helpers import load_plot_parameters\n",
    "# import matplotlib\n",
    "# matplotlib.use('Agg')"
   ]
  },
  {
   "cell_type": "code",
   "execution_count": 2,
   "id": "c5d0f4b0",
   "metadata": {},
   "outputs": [],
   "source": [
    "path_data = r'F:\\PD_test'\n",
    "# measurements_types = [r'0_overimposition', r'100+x', r'45_overimposition', r'90_overimposition', r'splitted']\n",
    "measurements_types = [r'0_overimposition']\n",
    "wavelength = '600nm'\n",
    "metric = 'median'\n",
    "parameters = ['depolarization', 'retardance', 'azimuth_pr', 'azimuth_iq', 'azimuth_sd']\n",
    "parameters_save = ['depolarization', 'retardance', 'azimuth']\n",
    "iq_size = 90\n",
    "proportion_azimuth_values = 1 - ((100 - iq_size) * 2)/100\n",
    "assert proportion_azimuth_values > 0"
   ]
  },
  {
   "cell_type": "code",
   "execution_count": 3,
   "id": "a7bc5183",
   "metadata": {},
   "outputs": [
    {
     "name": "stderr",
     "output_type": "stream",
     "text": [
      "100%|████████████████████████████████████████████████████████████████████████████████████| 1/1 [00:01<00:00,  1.64s/it]\n"
     ]
    }
   ],
   "source": [
    "data_measurement, data_to_clean = mask_analysis.load_data(path_data, measurements_types, wavelength, parameters_save,\n",
    "                                                         iq_size = iq_size)"
   ]
  },
  {
   "cell_type": "code",
   "execution_count": 4,
   "id": "84c969db",
   "metadata": {},
   "outputs": [
    {
     "name": "stderr",
     "output_type": "stream",
     "text": [
      "100%|████████████████████████████████████████████████████████████████████████████████████| 1/1 [00:07<00:00,  7.96s/it]\n"
     ]
    }
   ],
   "source": [
    "results_path = mask_analysis.generate_plots(path_data, data_measurement, measurements_types, wavelength, metric = metric,\n",
    "                                            Flag = False)"
   ]
  },
  {
   "cell_type": "code",
   "execution_count": 5,
   "id": "8ae88a93",
   "metadata": {},
   "outputs": [
    {
     "name": "stderr",
     "output_type": "stream",
     "text": [
      "100%|████████████████████████████████████████████████████████████████████████████████████| 1/1 [00:00<00:00,  2.33it/s]\n"
     ]
    }
   ],
   "source": [
    "combined_data_per_thickness = mask_analysis.create_output_pickle_master(data_measurement, measurements_types, parameters, \n",
    "                                        path_data, wavelength, proportion_azimuth_values = proportion_azimuth_values)"
   ]
  },
  {
   "cell_type": "code",
   "execution_count": 6,
   "id": "93e1150a",
   "metadata": {},
   "outputs": [],
   "source": [
    "mask_analysis.save_data_prism(measurements_types, path_data, wavelength, parameters)"
   ]
  },
  {
   "cell_type": "code",
   "execution_count": null,
   "id": "34df0c87",
   "metadata": {},
   "outputs": [],
   "source": []
  },
  {
   "cell_type": "code",
   "execution_count": null,
   "id": "4305f5ff",
   "metadata": {},
   "outputs": [],
   "source": []
  },
  {
   "cell_type": "code",
   "execution_count": null,
   "id": "0790d05e",
   "metadata": {},
   "outputs": [],
   "source": []
  },
  {
   "cell_type": "code",
   "execution_count": null,
   "id": "3578f13b",
   "metadata": {},
   "outputs": [],
   "source": []
  },
  {
   "cell_type": "code",
   "execution_count": null,
   "id": "1d3a7940",
   "metadata": {},
   "outputs": [],
   "source": []
  }
 ],
 "metadata": {
  "kernelspec": {
   "display_name": "Python 3 (ipykernel)",
   "language": "python",
   "name": "python3"
  },
  "language_info": {
   "codemirror_mode": {
    "name": "ipython",
    "version": 3
   },
   "file_extension": ".py",
   "mimetype": "text/x-python",
   "name": "python",
   "nbconvert_exporter": "python",
   "pygments_lexer": "ipython3",
   "version": "3.9.16"
  }
 },
 "nbformat": 4,
 "nbformat_minor": 5
}
