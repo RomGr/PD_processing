{
 "cells": [
  {
   "cell_type": "code",
   "execution_count": 1,
   "id": "65ec6032",
   "metadata": {},
   "outputs": [
    {
     "ename": "ModuleNotFoundError",
     "evalue": "No module named 'penetration_depth'",
     "output_type": "error",
     "traceback": [
      "\u001b[1;31m---------------------------------------------------------------------------\u001b[0m",
      "\u001b[1;31mModuleNotFoundError\u001b[0m                       Traceback (most recent call last)",
      "\u001b[1;32m~\\AppData\\Local\\Temp\\ipykernel_1824\\1112533264.py\u001b[0m in \u001b[0;36m<module>\u001b[1;34m\u001b[0m\n\u001b[0;32m      3\u001b[0m \u001b[1;32mimport\u001b[0m \u001b[0mos\u001b[0m\u001b[1;33m\u001b[0m\u001b[1;33m\u001b[0m\u001b[0m\n\u001b[0;32m      4\u001b[0m \u001b[1;32mfrom\u001b[0m \u001b[0mtqdm\u001b[0m \u001b[1;32mimport\u001b[0m \u001b[0mtqdm\u001b[0m\u001b[1;33m\u001b[0m\u001b[1;33m\u001b[0m\u001b[0m\n\u001b[1;32m----> 5\u001b[1;33m \u001b[1;32mfrom\u001b[0m \u001b[0mpenetration_depth\u001b[0m\u001b[1;33m.\u001b[0m\u001b[0mprocess_PD\u001b[0m \u001b[1;32mimport\u001b[0m \u001b[0mprocess_PD\u001b[0m\u001b[1;33m\u001b[0m\u001b[1;33m\u001b[0m\u001b[0m\n\u001b[0m\u001b[0;32m      6\u001b[0m \u001b[1;31m# import matplotlib\u001b[0m\u001b[1;33m\u001b[0m\u001b[1;33m\u001b[0m\u001b[0m\n\u001b[0;32m      7\u001b[0m \u001b[1;31m# matplotlib.use('Agg')\u001b[0m\u001b[1;33m\u001b[0m\u001b[1;33m\u001b[0m\u001b[0m\n",
      "\u001b[1;31mModuleNotFoundError\u001b[0m: No module named 'penetration_depth'"
     ]
    }
   ],
   "source": [
    "%load_ext autoreload\n",
    "%autoreload 2\n",
    "import os\n",
    "from tqdm import tqdm\n",
    "from penetration_depth.process_PD import process_PD\n",
    "# import matplotlib\n",
    "# matplotlib.use('Agg')"
   ]
  },
  {
   "cell_type": "code",
   "execution_count": null,
   "id": "4675085e",
   "metadata": {},
   "outputs": [],
   "source": []
  },
  {
   "cell_type": "code",
   "execution_count": 13,
   "id": "c5d0f4b0",
   "metadata": {},
   "outputs": [],
   "source": [
    "path_data = r'F:\\PD_dev'\n",
    "measurements_types = [r'0_overimposition', r'100+x', r'45_overimposition', r'90_overimposition', r'splitted']\n",
    "wavelengths = ['550nm', '650nm']\n",
    "metric = 'median'\n",
    "parameters = ['depolarization', 'retardance', 'azimuth_pr', 'azimuth_iq', 'azimuth_sd']\n",
    "parameters_save = ['depolarization', 'retardance', 'azimuth']\n",
    "iq_size = 90"
   ]
  },
  {
   "cell_type": "code",
   "execution_count": 14,
   "id": "582dc06d",
   "metadata": {},
   "outputs": [
    {
     "name": "stdout",
     "output_type": "stream",
     "text": [
      "Processing: 550nm...\n",
      "Processed: 550nm\n",
      "\n",
      "Processing: 650nm...\n",
      "Processed: 650nm\n",
      "\n"
     ]
    }
   ],
   "source": [
    "process_PD(path_data, measurements_types, wavelengths, parameters, iq_size = iq_size, \n",
    "                         metric = metric, Flag = False)"
   ]
  },
  {
   "cell_type": "code",
   "execution_count": null,
   "id": "0ef2dd0a",
   "metadata": {},
   "outputs": [],
   "source": []
  }
 ],
 "metadata": {
  "kernelspec": {
   "display_name": "Python 3 (ipykernel)",
   "language": "python",
   "name": "python3"
  },
  "language_info": {
   "codemirror_mode": {
    "name": "ipython",
    "version": 3
   },
   "file_extension": ".py",
   "mimetype": "text/x-python",
   "name": "python",
   "nbconvert_exporter": "python",
   "pygments_lexer": "ipython3",
   "version": "3.9.16"
  }
 },
 "nbformat": 4,
 "nbformat_minor": 5
}
