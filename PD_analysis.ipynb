{
 "cells": [
  {
   "cell_type": "code",
   "execution_count": 1,
   "id": "65ec6032",
   "metadata": {},
   "outputs": [],
   "source": [
    "%load_ext autoreload\n",
    "%autoreload 2\n",
    "import os\n",
    "from tqdm import tqdm\n",
    "from penetration_depth.process_PD import process_PD\n",
    "# import matplotlib\n",
    "# matplotlib.use('Agg')"
   ]
  },
  {
   "cell_type": "code",
   "execution_count": 2,
   "id": "c5d0f4b0",
   "metadata": {},
   "outputs": [],
   "source": [
    "path_data = r'F:\\PD_dev'\n",
    "measurements_types = [r'0_overimposition', r'100+x', r'45_overimposition', r'90_overimposition', r'splitted']\n",
    "wavelengths = ['550nm', '650nm']\n",
    "metric = 'median'\n",
    "parameters = ['depolarization', 'retardance', 'azimuth_pr', 'azimuth_iq', 'azimuth_sd']\n",
    "parameters_save = ['depolarization', 'retardance', 'azimuth']\n",
    "iq_size = 90"
   ]
  },
  {
   "cell_type": "code",
   "execution_count": null,
   "id": "582dc06d",
   "metadata": {},
   "outputs": [
    {
     "name": "stdout",
     "output_type": "stream",
     "text": [
      "Processing: 550nm...\n",
      "F:\\PD_dev\\0_overimposition\\2022-08-04_T_CC-over-0-10um_FX_M_1\\polarimetry\\550nm\\MM.npz\n",
      "F:\\PD_dev\\0_overimposition\\2022-08-04_T_CC-over-0-20um_FX_M_1\\polarimetry\\550nm\\MM.npz\n",
      "F:\\PD_dev\\0_overimposition\\2022-08-04_T_CC-over-0-30um_FX_M_1\\polarimetry\\550nm\\MM.npz\n",
      "F:\\PD_dev\\0_overimposition\\2022-08-04_T_CC-over-0-35um_FX_M_1\\polarimetry\\550nm\\MM.npz\n",
      "F:\\PD_dev\\100+x\\2022-06-17_T_CC-over-100-14um_FX_M_1\\polarimetry\\550nm\\MM.npz\n",
      "F:\\PD_dev\\100+x\\2022-06-17_T_CC-over-100-20um_FX_M_1\\polarimetry\\550nm\\MM.npz\n",
      "F:\\PD_dev\\100+x\\2022-06-17_T_CC-over-100-25um_FX_M_1\\polarimetry\\550nm\\MM.npz\n",
      "F:\\PD_dev\\100+x\\2022-06-17_T_CC-over-100-30um_FX_M_1\\polarimetry\\550nm\\MM.npz\n",
      "F:\\PD_dev\\45_overimposition\\2022-08-16_T_CC-over2-45-45um_FX_M_1\\polarimetry\\550nm\\MM.npz\n",
      "F:\\PD_dev\\45_overimposition\\2022-08-16_T_CC-over2-45-50um_FX_M_1\\polarimetry\\550nm\\MM.npz\n",
      "F:\\PD_dev\\45_overimposition\\2022-08-16_T_CC-over2-45-60um_FX_M_1\\polarimetry\\550nm\\MM.npz\n",
      "F:\\PD_dev\\45_overimposition\\2022-08-16_T_CC-over2-45-70um_FX_M_1\\polarimetry\\550nm\\MM.npz\n",
      "F:\\PD_dev\\90_overimposition\\2022-06-17_T_CC-over-90-100um_FX_M_1\\polarimetry\\550nm\\MM.npz\n",
      "F:\\PD_dev\\90_overimposition\\2022-07-04_T_CC-over-90-20um_FX_M_1\\polarimetry\\550nm\\MM.npz\n",
      "F:\\PD_dev\\90_overimposition\\2022-07-04_T_CC-over-90-40um_FX_M_1\\polarimetry\\550nm\\MM.npz\n",
      "F:\\PD_dev\\90_overimposition\\2022-08-04_T_CC-over-90-100um_FX_M_1\\polarimetry\\550nm\\MM.npz\n",
      "F:\\PD_dev\\splitted\\2022-07-04_T_CC-split-10um_FX_M_1\\polarimetry\\550nm\\MM.npz\n",
      "F:\\PD_dev\\splitted\\2022-07-04_T_CC-split-16um_FX_M_1\\polarimetry\\550nm\\MM.npz\n",
      "F:\\PD_dev\\splitted\\2022-07-04_T_CC-split-20um_FX_M_1\\polarimetry\\550nm\\MM.npz\n",
      "F:\\PD_dev\\splitted\\2022-07-04_T_CC-split-25um_FX_M_1\\polarimetry\\550nm\\MM.npz\n",
      "Processed: 550nm\n",
      "\n",
      "Processing: 650nm...\n",
      "F:\\PD_dev\\0_overimposition\\2022-08-04_T_CC-over-0-10um_FX_M_1\\polarimetry\\650nm\\MM.npz\n",
      "F:\\PD_dev\\0_overimposition\\2022-08-04_T_CC-over-0-20um_FX_M_1\\polarimetry\\650nm\\MM.npz\n",
      "F:\\PD_dev\\0_overimposition\\2022-08-04_T_CC-over-0-30um_FX_M_1\\polarimetry\\650nm\\MM.npz\n",
      "F:\\PD_dev\\0_overimposition\\2022-08-04_T_CC-over-0-35um_FX_M_1\\polarimetry\\650nm\\MM.npz\n",
      "F:\\PD_dev\\100+x\\2022-06-17_T_CC-over-100-14um_FX_M_1\\polarimetry\\650nm\\MM.npz\n",
      "F:\\PD_dev\\100+x\\2022-06-17_T_CC-over-100-20um_FX_M_1\\polarimetry\\650nm\\MM.npz\n",
      "F:\\PD_dev\\100+x\\2022-06-17_T_CC-over-100-25um_FX_M_1\\polarimetry\\650nm\\MM.npz\n",
      "F:\\PD_dev\\100+x\\2022-06-17_T_CC-over-100-30um_FX_M_1\\polarimetry\\650nm\\MM.npz\n",
      "F:\\PD_dev\\45_overimposition\\2022-08-16_T_CC-over2-45-45um_FX_M_1\\polarimetry\\650nm\\MM.npz\n",
      "F:\\PD_dev\\45_overimposition\\2022-08-16_T_CC-over2-45-50um_FX_M_1\\polarimetry\\650nm\\MM.npz\n",
      "F:\\PD_dev\\45_overimposition\\2022-08-16_T_CC-over2-45-60um_FX_M_1\\polarimetry\\650nm\\MM.npz\n",
      "F:\\PD_dev\\45_overimposition\\2022-08-16_T_CC-over2-45-70um_FX_M_1\\polarimetry\\650nm\\MM.npz\n",
      "F:\\PD_dev\\90_overimposition\\2022-06-17_T_CC-over-90-100um_FX_M_1\\polarimetry\\650nm\\MM.npz\n",
      "F:\\PD_dev\\90_overimposition\\2022-07-04_T_CC-over-90-20um_FX_M_1\\polarimetry\\650nm\\MM.npz\n",
      "F:\\PD_dev\\90_overimposition\\2022-07-04_T_CC-over-90-40um_FX_M_1\\polarimetry\\650nm\\MM.npz\n",
      "F:\\PD_dev\\90_overimposition\\2022-08-04_T_CC-over-90-100um_FX_M_1\\polarimetry\\650nm\\MM.npz\n",
      "F:\\PD_dev\\splitted\\2022-07-04_T_CC-split-10um_FX_M_1\\polarimetry\\650nm\\MM.npz\n",
      "F:\\PD_dev\\splitted\\2022-07-04_T_CC-split-16um_FX_M_1\\polarimetry\\650nm\\MM.npz\n",
      "F:\\PD_dev\\splitted\\2022-07-04_T_CC-split-20um_FX_M_1\\polarimetry\\650nm\\MM.npz\n",
      "F:\\PD_dev\\splitted\\2022-07-04_T_CC-split-25um_FX_M_1\\polarimetry\\650nm\\MM.npz\n"
     ]
    }
   ],
   "source": [
    "process_PD(path_data, measurements_types, wavelengths, parameters, iq_size = iq_size, \n",
    "                         metric = metric, Flag = False)"
   ]
  },
  {
   "cell_type": "code",
   "execution_count": null,
   "id": "757f5ffc",
   "metadata": {},
   "outputs": [],
   "source": []
  }
 ],
 "metadata": {
  "kernelspec": {
   "display_name": "Python 3 (ipykernel)",
   "language": "python",
   "name": "python3"
  },
  "language_info": {
   "codemirror_mode": {
    "name": "ipython",
    "version": 3
   },
   "file_extension": ".py",
   "mimetype": "text/x-python",
   "name": "python",
   "nbconvert_exporter": "python",
   "pygments_lexer": "ipython3",
   "version": "3.9.16"
  }
 },
 "nbformat": 4,
 "nbformat_minor": 5
}
