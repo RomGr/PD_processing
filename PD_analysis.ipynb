{
 "cells": [
  {
   "cell_type": "code",
   "execution_count": 1,
   "id": "65ec6032",
   "metadata": {},
   "outputs": [],
   "source": [
    "%load_ext autoreload\n",
    "%autoreload 2\n",
    "import os\n",
    "from tqdm import tqdm\n",
    "from penetration_depth import mask_analysis, overimposed_img, prepare_data_prism\n",
    "from penetration_depth.helpers import load_plot_parameters\n",
    "# import matplotlib\n",
    "# matplotlib.use('Agg')"
   ]
  },
  {
   "cell_type": "code",
   "execution_count": 2,
   "id": "c5d0f4b0",
   "metadata": {},
   "outputs": [],
   "source": [
    "path_data = r'F:\\PD_dev'\n",
    "measurements_types = [r'0_overimposition', r'100+x', r'45_overimposition', r'90_overimposition', r'splitted']\n",
    "wavelengths = ['550nm', '650nm']\n",
    "metric = 'median'\n",
    "parameters = ['depolarization', 'retardance', 'azimuth_pr', 'azimuth_iq', 'azimuth_sd']\n",
    "parameters_save = ['depolarization', 'retardance', 'azimuth']\n",
    "iq_size = 90\n",
    "proportion_azimuth_values = 1 - ((100 - iq_size) * 2)/100\n",
    "assert proportion_azimuth_values > 0"
   ]
  },
  {
   "cell_type": "code",
   "execution_count": 3,
   "id": "a7bc5183",
   "metadata": {},
   "outputs": [
    {
     "name": "stderr",
     "output_type": "stream",
     "text": [
      "100%|████████████████████████████████████████████████████████████████████████████████████| 5/5 [00:14<00:00,  2.97s/it]\n",
      "100%|████████████████████████████████████████████████████████████████████████████████████| 5/5 [01:31<00:00, 18.34s/it]\n",
      "100%|████████████████████████████████████████████████████████████████████████████████████| 5/5 [00:01<00:00,  2.96it/s]\n",
      "100%|████████████████████████████████████████████████████████████████████████████████████| 5/5 [00:16<00:00,  3.29s/it]\n",
      "100%|████████████████████████████████████████████████████████████████████████████████████| 5/5 [01:32<00:00, 18.56s/it]\n",
      "100%|████████████████████████████████████████████████████████████████████████████████████| 5/5 [00:01<00:00,  3.49it/s]\n"
     ]
    }
   ],
   "source": [
    "for wavelength in wavelengths:\n",
    "    data_measurement, data_to_clean = mask_analysis.load_data(path_data, measurements_types, wavelength, parameters_save,\n",
    "                                                         iq_size = iq_size)\n",
    "\n",
    "    results_path = mask_analysis.generate_plots(path_data, data_measurement, measurements_types, wavelength, metric = metric,\n",
    "                                                    Flag = False)\n",
    "\n",
    "    combined_data_per_thickness = mask_analysis.create_output_pickle_master(data_measurement, measurements_types, parameters, \n",
    "                                                path_data, wavelength, proportion_azimuth_values = proportion_azimuth_values)\n",
    "    mask_analysis.save_data_prism(measurements_types, path_data, wavelength, parameters)\n",
    "    print('Processed: ' + wavelength)"
   ]
  },
  {
   "cell_type": "code",
   "execution_count": null,
   "id": "93356ee6",
   "metadata": {},
   "outputs": [],
   "source": []
  }
 ],
 "metadata": {
  "kernelspec": {
   "display_name": "Python 3 (ipykernel)",
   "language": "python",
   "name": "python3"
  },
  "language_info": {
   "codemirror_mode": {
    "name": "ipython",
    "version": 3
   },
   "file_extension": ".py",
   "mimetype": "text/x-python",
   "name": "python",
   "nbconvert_exporter": "python",
   "pygments_lexer": "ipython3",
   "version": "3.9.16"
  }
 },
 "nbformat": 4,
 "nbformat_minor": 5
}
