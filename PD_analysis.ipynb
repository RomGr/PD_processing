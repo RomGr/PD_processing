{
 "cells": [
  {
   "cell_type": "code",
   "execution_count": 26,
   "id": "65ec6032",
   "metadata": {},
   "outputs": [
    {
     "name": "stdout",
     "output_type": "stream",
     "text": [
      "The autoreload extension is already loaded. To reload it, use:\n",
      "  %reload_ext autoreload\n"
     ]
    }
   ],
   "source": [
    "%load_ext autoreload\n",
    "%autoreload 2\n",
    "import os\n",
    "from tqdm import tqdm\n",
    "\n",
    "import sys\n",
    "sys.path.append('C:\\\\Users\\\\romai\\\\Documents\\\\penetration_depth\\\\src')\n",
    "\n",
    "from penetration_depth.process_PD import process_PD\n",
    "import shutil"
   ]
  },
  {
   "cell_type": "code",
   "execution_count": null,
   "id": "316395e2",
   "metadata": {},
   "outputs": [],
   "source": []
  },
  {
   "cell_type": "code",
   "execution_count": 27,
   "id": "4675085e",
   "metadata": {},
   "outputs": [],
   "source": [
    "CX_overimposed = True\n",
    "path_data = r'D:\\PD2024\\measurements'\n",
    "\n",
    "if CX_overimposed:\n",
    "    measurements_types = [[r'90_overimposition', 'GM'], [r'90_overimposition', 'WM']]\n",
    "    wavelengths = ['550nm']\n",
    "else:\n",
    "    measurements_types = [r'0_overimposition', r'100+x', r'45_overimposition', r'90_overimposition', r'splitted']\n",
    "    wavelengths = ['550nm', '650nm']\n",
    "metric = 'median'\n",
    "parameters = ['depolarization', 'retardance', 'azimuth_local_var', 'azimuth_pr', 'azimuth_iq', 'azimuth_sd']\n",
    "parameters_save = ['depolarization', 'retardance', 'azimuth']\n",
    "iq_size = 90"
   ]
  },
  {
   "cell_type": "code",
   "execution_count": 28,
   "id": "582dc06d",
   "metadata": {},
   "outputs": [
    {
     "name": "stdout",
     "output_type": "stream",
     "text": [
      "Processing: 550nm...\n",
      "Processing ['90_overimposition', 'GM']...\n",
      "Processing ['90_overimposition', 'WM']...\n"
     ]
    },
    {
     "name": "stderr",
     "output_type": "stream",
     "text": [
      "C:\\Users\\romai\\Documents\\penetration_depth\\src\\penetration_depth\\create_plots.py:141: RuntimeWarning: invalid value encountered in divide\n",
      "  y = y / np.max(y)\n"
     ]
    },
    {
     "name": "stdout",
     "output_type": "stream",
     "text": [
      "here\n",
      "dict_keys(['depolarization', 'retardance', 'azimuth_local_var', 'azimuth_pr', 'azimuth_iq', 'azimuth_sd'])\n",
      "here\n",
      "dict_keys(['depolarization', 'retardance', 'azimuth_local_var', 'azimuth_pr', 'azimuth_iq', 'azimuth_sd'])\n",
      "Processed: 550nm\n",
      "\n"
     ]
    }
   ],
   "source": [
    "process_PD(path_data,measurements_types, wavelengths, parameters, iq_size = iq_size, \n",
    "                         metric = metric, Flag = False, CX_overimposed = CX_overimposed)"
   ]
  },
  {
   "cell_type": "code",
   "execution_count": null,
   "id": "99394cc0",
   "metadata": {},
   "outputs": [],
   "source": []
  }
 ],
 "metadata": {
  "kernelspec": {
   "display_name": "Python 3 (ipykernel)",
   "language": "python",
   "name": "python3"
  },
  "language_info": {
   "codemirror_mode": {
    "name": "ipython",
    "version": 3
   },
   "file_extension": ".py",
   "mimetype": "text/x-python",
   "name": "python",
   "nbconvert_exporter": "python",
   "pygments_lexer": "ipython3",
   "version": "3.9.16"
  }
 },
 "nbformat": 4,
 "nbformat_minor": 5
}
