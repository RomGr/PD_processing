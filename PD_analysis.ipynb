{
 "cells": [
  {
   "cell_type": "code",
   "execution_count": 5,
   "id": "65ec6032",
   "metadata": {},
   "outputs": [
    {
     "name": "stdout",
     "output_type": "stream",
     "text": [
      "The autoreload extension is already loaded. To reload it, use:\n",
      "  %reload_ext autoreload\n"
     ]
    }
   ],
   "source": [
    "%load_ext autoreload\n",
    "%autoreload 2\n",
    "import os\n",
    "from tqdm import tqdm\n",
    "\n",
    "from processingmm import batch_processing\n",
    "\n",
    "import sys\n",
    "sys.path.append('C:\\\\Users\\\\romai\\\\Documents\\\\penetration_depth\\\\src')\n",
    "\n",
    "from penetration_depth import process_PD\n",
    "import shutil"
   ]
  },
  {
   "cell_type": "code",
   "execution_count": 6,
   "id": "4675085e",
   "metadata": {},
   "outputs": [],
   "source": [
    "CX_overimposed = True\n",
    "CC_overimposed = False\n",
    "small_ROIs = True\n",
    "path_data = r'D:\\PD\\CX\\measurements'\n",
    "\n",
    "if CC_overimposed:\n",
    "    measurements_types = [[r'90_overimposition', 'WM']]\n",
    "    wavelengths = ['550nm']\n",
    "    CX_overimposed = False\n",
    "elif CX_overimposed:\n",
    "    measurements_types = [[r'90_overimposition', 'GM'], [r'90_overimposition', 'WM']]\n",
    "    wavelengths = ['550nm']\n",
    "    CC_overimposed = False\n",
    "else:\n",
    "    measurements_types = [r'0_overimposition', r'100+x', r'45_overimposition', r'90_overimposition', r'splitted']\n",
    "    wavelengths = ['550nm', '650nm']\n",
    "\n",
    "metric = 'median'\n",
    "parameters = ['depolarization', 'retardance', 'azimuth_local_var', 'azimuth_iq', 'azimuth_sd']\n",
    "parameters_save = ['depolarization', 'retardance', 'azimuth_local_var']\n",
    "iq_size = 90\n",
    "max_number_ROIs = 15"
   ]
  },
  {
   "cell_type": "code",
   "execution_count": 7,
   "id": "2c7fc46c",
   "metadata": {},
   "outputs": [
    {
     "name": "stderr",
     "output_type": "stream",
     "text": [
      "0it [00:00, ?it/s]\n"
     ]
    },
    {
     "data": {
      "text/plain": [
       "[]"
      ]
     },
     "execution_count": 7,
     "metadata": {},
     "output_type": "execute_result"
    }
   ],
   "source": [
    "# get the folder in which the polarimetric measurements are stored\n",
    "directories = [path_data]\n",
    "calib = r'D:\\PD\\CX\\calib'\n",
    "batch_processing.batch_process(directories, calib, run_all = False)"
   ]
  },
  {
   "cell_type": "code",
   "execution_count": 8,
   "id": "582dc06d",
   "metadata": {},
   "outputs": [
    {
     "name": "stdout",
     "output_type": "stream",
     "text": [
      "\n",
      "Moving the annotations and creating the small ROIs...\n",
      "\n",
      "Moving the annotations for 2024-03-19_T_CX-over-90-100um_FX_M_2...\n",
      "Small ROIs created for 2024-03-19_T_CX-over-90-100um_FX_M_2\n",
      "\n",
      "Moving the annotations for 2024-03-19_T_CX-over-90-150um_FX_M_1...\n",
      "Small ROIs created for 2024-03-19_T_CX-over-90-150um_FX_M_1\n",
      "\n",
      "Moving the annotations for 2024-03-19_T_CX-over-90-200um_FX_M_1...\n",
      "Small ROIs created for 2024-03-19_T_CX-over-90-200um_FX_M_1\n",
      "\n",
      "Moving the annotations for 2024-03-19_T_CX-over-90-20um_FX_M_1...\n",
      "Small ROIs created for 2024-03-19_T_CX-over-90-20um_FX_M_1\n",
      "\n",
      "Moving the annotations for 2024-03-19_T_CX-over-90-300um_FX_M_1...\n",
      "Small ROIs created for 2024-03-19_T_CX-over-90-300um_FX_M_1\n",
      "\n",
      "Moving the annotations for 2024-03-19_T_CX-over-90-30um_FX_M_1...\n",
      "Small ROIs created for 2024-03-19_T_CX-over-90-30um_FX_M_1\n",
      "\n",
      "Moving the annotations for 2024-03-19_T_CX-over-90-400um_FX_M_1...\n",
      "Small ROIs created for 2024-03-19_T_CX-over-90-400um_FX_M_1\n",
      "\n",
      "Moving the annotations for 2024-03-19_T_CX-over-90-40um_FX_M_1...\n",
      "Small ROIs created for 2024-03-19_T_CX-over-90-40um_FX_M_1\n",
      "\n",
      "Moving the annotations for 2024-03-19_T_CX-over-90-50um_FX_M_1...\n",
      "Small ROIs created for 2024-03-19_T_CX-over-90-50um_FX_M_1\n",
      "\n",
      "Moving the annotations for 2024-03-19_T_CX-over-90-60um_FX_M_2...\n",
      "Small ROIs created for 2024-03-19_T_CX-over-90-60um_FX_M_2\n",
      "\n",
      "Moving the annotations for 2024-03-19_T_CX-over-90-80um_FX_M_2...\n",
      "Small ROIs created for 2024-03-19_T_CX-over-90-80um_FX_M_2\n",
      "\n",
      "Annotations and small ROIs processed...\n",
      "\n",
      "\n",
      "Processing: 550nm...\n",
      "\n",
      "Loading data for ['90_overimposition', 'GM']...\n",
      "\n",
      "Checking the annotations for ['90_overimposition', 'GM']...\n",
      "Data checked for ['90_overimposition', 'GM']...\n",
      "\n",
      "Loading the data for ['90_overimposition', 'GM']...\n"
     ]
    },
    {
     "name": "stderr",
     "output_type": "stream",
     "text": [
      "100%|██████████████████████████████████████████████████████████████████████████████████| 11/11 [02:35<00:00, 14.16s/it]\n"
     ]
    },
    {
     "name": "stdout",
     "output_type": "stream",
     "text": [
      "Data loaded for ['90_overimposition', 'GM']...\n",
      "\n",
      "Saving the raw data for ['90_overimposition', 'GM']...\n",
      "Raw data saved for ['90_overimposition', 'GM']...\n",
      "\n",
      "Data loaded for ['90_overimposition', 'GM']...\n",
      "\n",
      "\n",
      "Loading data for ['90_overimposition', 'WM']...\n",
      "\n",
      "Checking the annotations for ['90_overimposition', 'WM']...\n",
      "Data checked for ['90_overimposition', 'WM']...\n",
      "\n",
      "Loading the data for ['90_overimposition', 'WM']...\n"
     ]
    },
    {
     "name": "stderr",
     "output_type": "stream",
     "text": [
      "100%|██████████████████████████████████████████████████████████████████████████████████| 11/11 [01:08<00:00,  6.25s/it]\n"
     ]
    },
    {
     "name": "stdout",
     "output_type": "stream",
     "text": [
      "Data loaded for ['90_overimposition', 'WM']...\n",
      "\n",
      "Saving the raw data for ['90_overimposition', 'WM']...\n",
      "Raw data saved for ['90_overimposition', 'WM']...\n",
      "\n",
      "Data loaded for ['90_overimposition', 'WM']...\n",
      "\n",
      "\n",
      "Generating the plots for ['90_overimposition', 'GM']...\n"
     ]
    },
    {
     "name": "stderr",
     "output_type": "stream",
     "text": [
      "100%|██████████████████████████████████████████████████████████████████████████████████| 11/11 [00:12<00:00,  1.10s/it]\n"
     ]
    },
    {
     "name": "stdout",
     "output_type": "stream",
     "text": [
      "Plots generated for ['90_overimposition', 'GM']...\n",
      "\n",
      "\n",
      "Generating the plots for ['90_overimposition', 'WM']...\n"
     ]
    },
    {
     "name": "stderr",
     "output_type": "stream",
     "text": [
      "100%|██████████████████████████████████████████████████████████████████████████████████| 11/11 [00:11<00:00,  1.04s/it]\n"
     ]
    },
    {
     "name": "stdout",
     "output_type": "stream",
     "text": [
      "Plots generated for ['90_overimposition', 'WM']...\n",
      "\n",
      "\n",
      "Creating the output pickle file for ['90_overimposition', 'GM']...\n",
      "Output pickle file created for ['90_overimposition', 'GM']...\n",
      "\n",
      "\n",
      "Creating the output pickle file for ['90_overimposition', 'WM']...\n",
      "Output pickle file created for ['90_overimposition', 'WM']...\n",
      "\n",
      "\n",
      "Creating the output file to plug in prism for 550nm...\n",
      "Output file created for 550nm...\n",
      "\n",
      "Processed: 550nm\n",
      "\n",
      "\n"
     ]
    }
   ],
   "source": [
    "data_measurement = process_PD.process_PD(path_data,measurements_types, wavelengths, parameters, \n",
    "                                         iq_size = iq_size, metric = metric,\n",
    "                                         CX_overimposed = CX_overimposed, CC_overimposed = CC_overimposed, \n",
    "                                         small_ROIs = small_ROIs, max_number_ROIs = max_number_ROIs,\n",
    "                                         Flag = True)"
   ]
  },
  {
   "cell_type": "code",
   "execution_count": null,
   "id": "86c8b9ef",
   "metadata": {},
   "outputs": [],
   "source": []
  },
  {
   "cell_type": "code",
   "execution_count": null,
   "id": "b4ed46ed",
   "metadata": {},
   "outputs": [],
   "source": []
  },
  {
   "cell_type": "code",
   "execution_count": null,
   "id": "1f6c95f8",
   "metadata": {},
   "outputs": [],
   "source": []
  }
 ],
 "metadata": {
  "kernelspec": {
   "display_name": "Python 3 (ipykernel)",
   "language": "python",
   "name": "python3"
  },
  "language_info": {
   "codemirror_mode": {
    "name": "ipython",
    "version": 3
   },
   "file_extension": ".py",
   "mimetype": "text/x-python",
   "name": "python",
   "nbconvert_exporter": "python",
   "pygments_lexer": "ipython3",
   "version": "3.9.16"
  }
 },
 "nbformat": 4,
 "nbformat_minor": 5
}
