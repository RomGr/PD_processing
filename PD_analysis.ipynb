{
 "cells": [
  {
   "cell_type": "code",
   "execution_count": 1,
   "id": "65ec6032",
   "metadata": {},
   "outputs": [],
   "source": [
    "%load_ext autoreload\n",
    "%autoreload 2\n",
    "import os\n",
    "from tqdm import tqdm\n",
    "from penetration_depth import mask_analysis, overimposed_img, prepare_data_prism\n",
    "from penetration_depth.helpers import load_plot_parameters\n",
    "# import matplotlib\n",
    "# matplotlib.use('Agg')"
   ]
  },
  {
   "cell_type": "code",
   "execution_count": 2,
   "id": "c5d0f4b0",
   "metadata": {},
   "outputs": [],
   "source": [
    "path_data = r'F:\\PD_test'\n",
    "measurements_types = [r'0_overimposition', r'100+x', r'45_overimposition', r'90_overimposition', r'splitted']\n",
    "wavelengths = ['550nm', '650nm']\n",
    "metric = 'median'\n",
    "parameters = ['depolarization', 'retardance', 'azimuth_pr', 'azimuth_iq', 'azimuth_sd']\n",
    "parameters_save = ['depolarization', 'retardance', 'azimuth']\n",
    "iq_size = 90\n",
    "proportion_azimuth_values = 1 - ((100 - iq_size) * 2)/100\n",
    "assert proportion_azimuth_values > 0"
   ]
  },
  {
   "cell_type": "code",
   "execution_count": 3,
   "id": "a7bc5183",
   "metadata": {},
   "outputs": [
    {
     "name": "stderr",
     "output_type": "stream",
     "text": [
      "  0%|                                                                                            | 0/5 [00:07<?, ?it/s]\n"
     ]
    },
    {
     "ename": "FileExistsError",
     "evalue": "[WinError 183] Cannot create a file when that file already exists: 'F:\\\\PD_test\\\\0_overimposition\\\\2022-08-16_T_CC-over-0-80um_FX_M_1\\\\annotation\\\\overimposed1.tif' -> 'F:\\\\PD_test\\\\0_overimposition\\\\2022-08-16_T_CC-over-0-80um_FX_M_1\\\\annotation\\\\ROI_1.tif'",
     "output_type": "error",
     "traceback": [
      "\u001b[1;31m---------------------------------------------------------------------------\u001b[0m",
      "\u001b[1;31mFileExistsError\u001b[0m                           Traceback (most recent call last)",
      "\u001b[1;32m~\\AppData\\Local\\Temp\\ipykernel_19892\\3433748985.py\u001b[0m in \u001b[0;36m<module>\u001b[1;34m\u001b[0m\n\u001b[0;32m      1\u001b[0m \u001b[1;32mfor\u001b[0m \u001b[0mwavelength\u001b[0m \u001b[1;32min\u001b[0m \u001b[0mwavelengths\u001b[0m\u001b[1;33m:\u001b[0m\u001b[1;33m\u001b[0m\u001b[1;33m\u001b[0m\u001b[0m\n\u001b[1;32m----> 2\u001b[1;33m     data_measurement, data_to_clean = mask_analysis.load_data(path_data, measurements_types, wavelength, parameters_save,\n\u001b[0m\u001b[0;32m      3\u001b[0m                                                          iq_size = iq_size)\n\u001b[0;32m      4\u001b[0m     results_path = mask_analysis.generate_plots(path_data, data_measurement, measurements_types, wavelength, metric = metric,\n\u001b[0;32m      5\u001b[0m                                                 Flag = False)\n",
      "\u001b[1;32m~\\Documents\\penetration_depth\\src\\penetration_depth\\mask_analysis.py\u001b[0m in \u001b[0;36mload_data\u001b[1;34m(path_data, measurements_types, wavelength, parameters_save, iq_size)\u001b[0m\n\u001b[0;32m     49\u001b[0m         \u001b[0mnothing_to_clean\u001b[0m \u001b[1;33m=\u001b[0m \u001b[1;32mFalse\u001b[0m\u001b[1;33m\u001b[0m\u001b[1;33m\u001b[0m\u001b[0m\n\u001b[0;32m     50\u001b[0m         \u001b[1;32mwhile\u001b[0m \u001b[1;32mnot\u001b[0m \u001b[0mnothing_to_clean\u001b[0m\u001b[1;33m:\u001b[0m\u001b[1;33m\u001b[0m\u001b[1;33m\u001b[0m\u001b[0m\n\u001b[1;32m---> 51\u001b[1;33m             data_measurement[measurements_type], data_to_clean[measurements_type] = process_one_measurement(path_data, measurements_type, \n\u001b[0m\u001b[0;32m     52\u001b[0m                                                                                             wavelength, parameters_save, Flag = False, iq_size = iq_size)\n\u001b[0;32m     53\u001b[0m             \u001b[1;32mif\u001b[0m \u001b[0mlen\u001b[0m\u001b[1;33m(\u001b[0m\u001b[0mdata_to_clean\u001b[0m\u001b[1;33m[\u001b[0m\u001b[0mmeasurements_type\u001b[0m\u001b[1;33m]\u001b[0m\u001b[1;33m)\u001b[0m \u001b[1;33m==\u001b[0m \u001b[1;36m0\u001b[0m\u001b[1;33m:\u001b[0m\u001b[1;33m\u001b[0m\u001b[1;33m\u001b[0m\u001b[0m\n",
      "\u001b[1;32m~\\Documents\\penetration_depth\\src\\penetration_depth\\mask_analysis.py\u001b[0m in \u001b[0;36mprocess_one_measurement\u001b[1;34m(path_data, measurements_type, wavelength, parameters_save, Flag, iq_size)\u001b[0m\n\u001b[0;32m    104\u001b[0m     \u001b[1;31m# get the paths of all folders for the analysis\u001b[0m\u001b[1;33m\u001b[0m\u001b[1;33m\u001b[0m\u001b[0m\n\u001b[0;32m    105\u001b[0m     \u001b[0mpaths\u001b[0m\u001b[1;33m,\u001b[0m \u001b[0mfilename_mask\u001b[0m\u001b[1;33m,\u001b[0m \u001b[0m_\u001b[0m \u001b[1;33m=\u001b[0m \u001b[0mfind_all_folders\u001b[0m\u001b[1;33m(\u001b[0m\u001b[0mpath_data\u001b[0m\u001b[1;33m,\u001b[0m \u001b[0mmeasurements_type\u001b[0m\u001b[1;33m)\u001b[0m\u001b[1;33m\u001b[0m\u001b[1;33m\u001b[0m\u001b[0m\n\u001b[1;32m--> 106\u001b[1;33m     \u001b[0mcheck_annotation\u001b[0m\u001b[1;33m(\u001b[0m\u001b[0mpaths\u001b[0m\u001b[1;33m,\u001b[0m \u001b[0mmeasurements_type\u001b[0m\u001b[1;33m,\u001b[0m \u001b[0mfilename_mask\u001b[0m\u001b[1;33m)\u001b[0m\u001b[1;33m\u001b[0m\u001b[1;33m\u001b[0m\u001b[0m\n\u001b[0m\u001b[0;32m    107\u001b[0m \u001b[1;33m\u001b[0m\u001b[0m\n\u001b[0;32m    108\u001b[0m     \u001b[0mdata\u001b[0m\u001b[1;33m,\u001b[0m \u001b[0mdata_to_clean\u001b[0m \u001b[1;33m=\u001b[0m \u001b[0mget_data\u001b[0m\u001b[1;33m(\u001b[0m\u001b[0mpaths\u001b[0m\u001b[1;33m,\u001b[0m \u001b[0mfilename_mask\u001b[0m\u001b[1;33m,\u001b[0m \u001b[0mwavelength\u001b[0m\u001b[1;33m,\u001b[0m \u001b[0mFlag\u001b[0m \u001b[1;33m=\u001b[0m \u001b[0mFlag\u001b[0m\u001b[1;33m,\u001b[0m \u001b[0miq_size\u001b[0m \u001b[1;33m=\u001b[0m \u001b[0miq_size\u001b[0m\u001b[1;33m)\u001b[0m\u001b[1;33m\u001b[0m\u001b[1;33m\u001b[0m\u001b[0m\n",
      "\u001b[1;32m~\\Documents\\penetration_depth\\src\\penetration_depth\\mask_analysis.py\u001b[0m in \u001b[0;36mcheck_annotation\u001b[1;34m(paths, measurements_type, filename_mask)\u001b[0m\n\u001b[0;32m    201\u001b[0m                 \u001b[0mold_name\u001b[0m \u001b[1;33m=\u001b[0m \u001b[0mos\u001b[0m\u001b[1;33m.\u001b[0m\u001b[0mpath\u001b[0m\u001b[1;33m.\u001b[0m\u001b[0mjoin\u001b[0m\u001b[1;33m(\u001b[0m\u001b[0mfolder\u001b[0m\u001b[1;33m,\u001b[0m \u001b[1;34m'annotation'\u001b[0m\u001b[1;33m,\u001b[0m \u001b[0mf\u001b[0m\u001b[1;33m)\u001b[0m\u001b[1;33m\u001b[0m\u001b[1;33m\u001b[0m\u001b[0m\n\u001b[0;32m    202\u001b[0m                 \u001b[0mnew_name\u001b[0m \u001b[1;33m=\u001b[0m \u001b[0mos\u001b[0m\u001b[1;33m.\u001b[0m\u001b[0mpath\u001b[0m\u001b[1;33m.\u001b[0m\u001b[0mjoin\u001b[0m\u001b[1;33m(\u001b[0m\u001b[0mfolder\u001b[0m\u001b[1;33m,\u001b[0m \u001b[1;34m'annotation'\u001b[0m\u001b[1;33m,\u001b[0m \u001b[0mf\u001b[0m\u001b[1;33m.\u001b[0m\u001b[0mreplace\u001b[0m\u001b[1;33m(\u001b[0m\u001b[0mfilename_mask\u001b[0m\u001b[1;33m,\u001b[0m \u001b[1;34m'ROI_'\u001b[0m\u001b[1;33m)\u001b[0m\u001b[1;33m)\u001b[0m\u001b[1;33m\u001b[0m\u001b[1;33m\u001b[0m\u001b[0m\n\u001b[1;32m--> 203\u001b[1;33m                 \u001b[0mos\u001b[0m\u001b[1;33m.\u001b[0m\u001b[0mrename\u001b[0m\u001b[1;33m(\u001b[0m\u001b[0mold_name\u001b[0m\u001b[1;33m,\u001b[0m \u001b[0mnew_name\u001b[0m\u001b[1;33m)\u001b[0m\u001b[1;33m\u001b[0m\u001b[1;33m\u001b[0m\u001b[0m\n\u001b[0m\u001b[0;32m    204\u001b[0m                 \u001b[0mcounter\u001b[0m \u001b[1;33m+=\u001b[0m \u001b[1;36m1\u001b[0m\u001b[1;33m\u001b[0m\u001b[1;33m\u001b[0m\u001b[0m\n\u001b[0;32m    205\u001b[0m \u001b[1;33m\u001b[0m\u001b[0m\n",
      "\u001b[1;31mFileExistsError\u001b[0m: [WinError 183] Cannot create a file when that file already exists: 'F:\\\\PD_test\\\\0_overimposition\\\\2022-08-16_T_CC-over-0-80um_FX_M_1\\\\annotation\\\\overimposed1.tif' -> 'F:\\\\PD_test\\\\0_overimposition\\\\2022-08-16_T_CC-over-0-80um_FX_M_1\\\\annotation\\\\ROI_1.tif'"
     ]
    }
   ],
   "source": [
    "for wavelength in wavelengths:\n",
    "    data_measurement, data_to_clean = mask_analysis.load_data(path_data, measurements_types, wavelength, parameters_save,\n",
    "                                                         iq_size = iq_size)\n",
    "    results_path = mask_analysis.generate_plots(path_data, data_measurement, measurements_types, wavelength, metric = metric,\n",
    "                                                Flag = False)\n",
    "    combined_data_per_thickness = mask_analysis.create_output_pickle_master(data_measurement, measurements_types, parameters, \n",
    "                                            path_data, wavelength, proportion_azimuth_values = proportion_azimuth_values)\n",
    "    mask_analysis.save_data_prism(measurements_types, path_data, wavelength, parameters)"
   ]
  },
  {
   "cell_type": "code",
   "execution_count": null,
   "id": "a2c053e1",
   "metadata": {},
   "outputs": [],
   "source": []
  }
 ],
 "metadata": {
  "kernelspec": {
   "display_name": "Python 3 (ipykernel)",
   "language": "python",
   "name": "python3"
  },
  "language_info": {
   "codemirror_mode": {
    "name": "ipython",
    "version": 3
   },
   "file_extension": ".py",
   "mimetype": "text/x-python",
   "name": "python",
   "nbconvert_exporter": "python",
   "pygments_lexer": "ipython3",
   "version": "3.9.16"
  }
 },
 "nbformat": 4,
 "nbformat_minor": 5
}
